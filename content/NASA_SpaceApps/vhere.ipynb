{
 "cells": [
  {
   "cell_type": "markdown",
   "metadata": {},
   "source": [
    "<h2 style=\"text-align: left;\"> Vhere - A conversation based recommender for data discovery and exploration\n",
    " </h2>\n",
    " \n",
    " <h3 style=\"text-align: left;\"> Submission for NASA SpaceApps Challenge 2020\n",
    " </h3>\n",
    " "
   ]
  },
  {
   "cell_type": "markdown",
   "metadata": {},
   "source": [
    "During the past few decades, the availability of cheap computers, nano satellites and innovative telescopes have led to a treasure trove of data and information in the field of astronomy and earth sciences. Even though such a vast amount of data is available, it is often not well-structured or standardized. This makes it difficult to not only explore but also discover relevant datasets especially for amateur scientists and enthusiasts in turn creating an entry barrier for those interested in scientific data."
   ]
  },
  {
   "cell_type": "markdown",
   "metadata": {},
   "source": [
    "\n",
    "<p><img src=\"../images/information_overload.jpg\" style=\"width:300px;margin-right:20px;float:left;\">\n",
    "\n",
    "There are thousands of interesting space datasets across NASA, CSA, etc. It is extremely tedious for a person to explore the datasets and discover interesting ones unless he possesses relevant domain knowledge.\n",
    "<br><br>\n",
    "\n",
    "One of the approaches used in data discovery is by using keyword matches and searching based on titles. However, in the real world, data is messy and is not tagged correctly thus reducing the efficiency of these approaches. Also, dataset titles do not convey enough information to decide if they are relevant, and reading through descriptions is hard and time consuming.\n",
    "\n",
    "</p>"
   ]
  },
  {
   "cell_type": "markdown",
   "metadata": {},
   "source": [
    "<p><img src=\"../images/ink.png\" style=\"width:350px;margin-right:20px;float:right;\">\n",
    "    <br>\n",
    "    \n",
    "To solve this problem, we built Vhere - A recommender that not only reads and understands dataset descriptions but allows searching them with a simple non-technical natural language query. \n",
    "<br><br>\n",
    "\n",
    "For eg. if a user asks \"I want to know more about Earth's atmosphere and geography\", Vhere will magically (with some science too!) match the query with the description, title and metadata of all the datasets across all the sources and find the most relevant results.\n",
    "<br><br>\n",
    "\n",
    "This provides a single access point to all datasets from various data sources (NASA, CSA, JAXA etc). Also, this approach supports matches that are close to the query words even if the user does not know the exact scientific term to describe the data.\n",
    "<br>\n",
    "</p>"
   ]
  },
  {
   "cell_type": "markdown",
   "metadata": {},
   "source": [
    "<h3 style=\"text-align: left;\"> System Architecture</h3>"
   ]
  },
  {
   "cell_type": "markdown",
   "metadata": {},
   "source": [
    "I\"ll now describe the internal architecture of the recommender I built to trawl through the datasets of NASA and recommend relevant ones to the user. \n",
    "\n",
    "On the server side, I aggregate all datasets across different sources(CSA, NASA etc.) and create an NLP model to extract their features based on title and description and other metadata.\n",
    "\n",
    "Instead of just matching keywords, I extract semantic information from metadata using NLP techniques like lemmatization, tf-idf matching and cosine similarity. I then created an indexed machine learning model that contains information on all available datasets.\n"
   ]
  },
  {
   "cell_type": "markdown",
   "metadata": {},
   "source": [
    "<p align=\"center\">\n",
    "  <img src=\"../images/arcitecture.png\" style=\"width:450px;\">\n",
    "</p>"
   ]
  },
  {
   "cell_type": "markdown",
   "metadata": {},
   "source": [
    "On the client side, the user can input queries using natural language as if carrying a conversation. Query the recommender like \"I want to know more about Earth's atmosphere and geography\" or \"I want data about Mars missions and climate\" or \"How did the universe begin? What are the earliest stars?\"\n",
    "\n",
    "The output is a list of datasets that contain earth data most closely matching the query.The user can further refine their query after looking at the datasets which allows for more focused matches.\n",
    "\n",
    "The query \"I want to know more about Earth's atmosphere and geography\" leads to the following recommdations from Vhere."
   ]
  },
  {
   "cell_type": "markdown",
   "metadata": {},
   "source": [
    "<p align=\"left\">\n",
    "  <img src=\"../images/reco_result.png\" style=\"width:800px;\">\n",
    "</p>"
   ]
  }
 ],
 "metadata": {
  "kernelspec": {
   "display_name": "Python 3",
   "language": "python",
   "name": "python3"
  },
  "language_info": {
   "codemirror_mode": {
    "name": "ipython",
    "version": 3
   },
   "file_extension": ".py",
   "mimetype": "text/x-python",
   "name": "python",
   "nbconvert_exporter": "python",
   "pygments_lexer": "ipython3",
   "version": "3.6.5"
  },
  "nikola": {
   "category": "",
   "date": "2017-02-01 07:34:12 UTC-05:00",
   "description": "",
   "link": "",
   "slug": "mapping-points-with-folium",
   "tags": "Folium",
   "title": "Mapping Points with Folium",
   "type": "text"
  }
 },
 "nbformat": 4,
 "nbformat_minor": 1
}
