{
 "cells": [
  {
   "cell_type": "markdown",
   "metadata": {},
   "source": [
    "A recommender to recommend datasets to scientists and data science enthusiasts."
   ]
  },
  {
   "cell_type": "code",
   "execution_count": null,
   "metadata": {},
   "outputs": [],
   "source": []
  }
 ],
 "metadata": {
  "kernelspec": {
   "display_name": "Python 3",
   "language": "python",
   "name": "python3"
  },
  "language_info": {
   "codemirror_mode": {
    "name": "ipython",
    "version": 3
   },
   "file_extension": ".py",
   "mimetype": "text/x-python",
   "name": "python",
   "nbconvert_exporter": "python",
   "pygments_lexer": "ipython3",
   "version": "3.6.5"
  },
  "nikola": {
   "category": "",
   "date": "2017-02-01 07:34:12 UTC-05:00",
   "description": "",
   "link": "",
   "slug": "mapping-points-with-folium",
   "tags": "Folium",
   "title": "Mapping Points with Folium",
   "type": "text"
  }
 },
 "nbformat": 4,
 "nbformat_minor": 1
}
